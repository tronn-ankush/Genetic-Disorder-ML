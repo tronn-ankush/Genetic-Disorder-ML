{
  "nbformat": 4,
  "nbformat_minor": 0,
  "metadata": {
    "colab": {
      "provenance": []
    },
    "kernelspec": {
      "name": "python3",
      "display_name": "Python 3"
    },
    "language_info": {
      "name": "python"
    }
  },
  "cells": [
    {
      "cell_type": "code",
      "source": [
        "# Dataset\n",
        "!wget -O train.csv https://github.com/tronn-ankush/Genetic-Disorder-ML/raw/master/train_genetic_disorders.csv"
      ],
      "metadata": {
        "id": "EK2nvY-Goz-i",
        "colab": {
          "base_uri": "https://localhost:8080/"
        },
        "outputId": "3a3cb5fd-a5c5-4f5f-f398-268d99ea2eb2"
      },
      "execution_count": null,
      "outputs": [
        {
          "output_type": "stream",
          "name": "stdout",
          "text": [
            "--2024-03-20 13:41:41--  https://github.com/tronn-ankush/Genetic-Disorder-ML/raw/master/train_genetic_disorders.csv\n",
            "Resolving github.com (github.com)... 140.82.114.3\n",
            "Connecting to github.com (github.com)|140.82.114.3|:443... connected.\n",
            "HTTP request sent, awaiting response... 302 Found\n",
            "Location: https://raw.githubusercontent.com/tronn-ankush/Genetic-Disorder-ML/master/train_genetic_disorders.csv [following]\n",
            "--2024-03-20 13:41:42--  https://raw.githubusercontent.com/tronn-ankush/Genetic-Disorder-ML/master/train_genetic_disorders.csv\n",
            "Resolving raw.githubusercontent.com (raw.githubusercontent.com)... 185.199.108.133, 185.199.109.133, 185.199.110.133, ...\n",
            "Connecting to raw.githubusercontent.com (raw.githubusercontent.com)|185.199.108.133|:443... connected.\n",
            "HTTP request sent, awaiting response... 200 OK\n",
            "Length: 6540717 (6.2M) [text/plain]\n",
            "Saving to: ‘train.csv’\n",
            "\n",
            "train.csv           100%[===================>]   6.24M  --.-KB/s    in 0.04s   \n",
            "\n",
            "2024-03-20 13:41:42 (139 MB/s) - ‘train.csv’ saved [6540717/6540717]\n",
            "\n"
          ]
        }
      ]
    },
    {
      "cell_type": "code",
      "source": [
        "# Importing libraries\n",
        "import numpy as np\n",
        "import pandas as pd\n",
        "import matplotlib.pyplot as plt\n",
        "import seaborn as sns"
      ],
      "metadata": {
        "id": "yYsQLZE_Xl1l"
      },
      "execution_count": null,
      "outputs": []
    },
    {
      "cell_type": "code",
      "source": [
        "!sudo pip install xgboost"
      ],
      "metadata": {
        "id": "NzNZIn9XxPbu",
        "colab": {
          "base_uri": "https://localhost:8080/"
        },
        "outputId": "5d558297-4482-42e8-c2b8-fb5a6b65ab63"
      },
      "execution_count": null,
      "outputs": [
        {
          "output_type": "stream",
          "name": "stdout",
          "text": [
            "Requirement already satisfied: xgboost in /usr/local/lib/python3.10/dist-packages (2.0.3)\n",
            "Requirement already satisfied: numpy in /usr/local/lib/python3.10/dist-packages (from xgboost) (1.25.2)\n",
            "Requirement already satisfied: scipy in /usr/local/lib/python3.10/dist-packages (from xgboost) (1.11.4)\n"
          ]
        }
      ]
    },
    {
      "cell_type": "code",
      "source": [
        "!sudo pip install --upgrade xgboost"
      ],
      "metadata": {
        "id": "UGuhQHXN2Z_7",
        "colab": {
          "base_uri": "https://localhost:8080/"
        },
        "outputId": "88d08d79-957a-4397-ae85-b55c4d356ae7"
      },
      "execution_count": null,
      "outputs": [
        {
          "output_type": "stream",
          "name": "stdout",
          "text": [
            "Requirement already satisfied: xgboost in /usr/local/lib/python3.10/dist-packages (2.0.3)\n",
            "Requirement already satisfied: numpy in /usr/local/lib/python3.10/dist-packages (from xgboost) (1.25.2)\n",
            "Requirement already satisfied: scipy in /usr/local/lib/python3.10/dist-packages (from xgboost) (1.11.4)\n"
          ]
        }
      ]
    },
    {
      "cell_type": "code",
      "source": [
        "# Reading the dateaset\n",
        "df = pd.read_csv(\"train.csv\")"
      ],
      "metadata": {
        "id": "QZACrNG_o0eS"
      },
      "execution_count": null,
      "outputs": []
    },
    {
      "cell_type": "code",
      "source": [
        "df.head()"
      ],
      "metadata": {
        "id": "LKjLZLx1qjPO",
        "colab": {
          "base_uri": "https://localhost:8080/",
          "height": 550
        },
        "outputId": "0518ac39-9d3b-48de-c9f1-0cdb91df955a"
      },
      "execution_count": null,
      "outputs": [
        {
          "output_type": "execute_result",
          "data": {
            "text/plain": [
              "  Patient Id  Patient Age Genes in mother's side Inherited from father  \\\n",
              "0  PID0x6418          2.0                    Yes                    No   \n",
              "1  PID0x25d5          4.0                    Yes                   Yes   \n",
              "2  PID0x4a82          6.0                    Yes                    No   \n",
              "3  PID0x4ac8         12.0                    Yes                    No   \n",
              "4  PID0x1bf7         11.0                    Yes                    No   \n",
              "\n",
              "  Maternal gene Paternal gene  Blood cell count (mcL) Patient First Name  \\\n",
              "0           Yes            No                4.760603            Richard   \n",
              "1            No            No                4.910669               Mike   \n",
              "2            No            No                4.893297           Kimberly   \n",
              "3           Yes            No                4.705280            Jeffery   \n",
              "4           NaN           Yes                4.720703            Johanna   \n",
              "\n",
              "  Family Name Father's name  ...  Birth defects  \\\n",
              "0         NaN         Larre  ...            NaN   \n",
              "1         NaN        Brycen  ...       Multiple   \n",
              "2         NaN        Nashon  ...       Singular   \n",
              "3   Hoelscher        Aayaan  ...       Singular   \n",
              "4    Stutzman         Suave  ...       Multiple   \n",
              "\n",
              "   White Blood cell count (thousand per microliter) Blood test result  \\\n",
              "0                                          9.857562               NaN   \n",
              "1                                          5.522560            normal   \n",
              "2                                               NaN            normal   \n",
              "3                                          7.919321      inconclusive   \n",
              "4                                          4.098210               NaN   \n",
              "\n",
              "  Symptom 1 Symptom 2 Symptom 3 Symptom 4  Symptom 5  \\\n",
              "0       1.0       1.0       1.0       1.0        1.0   \n",
              "1       1.0       NaN       1.0       1.0        0.0   \n",
              "2       0.0       1.0       1.0       1.0        1.0   \n",
              "3       0.0       0.0       1.0       0.0        0.0   \n",
              "4       0.0       0.0       0.0       0.0        NaN   \n",
              "\n",
              "                               Genetic Disorder  \\\n",
              "0   Mitochondrial genetic inheritance disorders   \n",
              "1                                           NaN   \n",
              "2  Multifactorial genetic inheritance disorders   \n",
              "3   Mitochondrial genetic inheritance disorders   \n",
              "4  Multifactorial genetic inheritance disorders   \n",
              "\n",
              "                     Disorder Subclass  \n",
              "0  Leber's hereditary optic neuropathy  \n",
              "1                      Cystic fibrosis  \n",
              "2                             Diabetes  \n",
              "3                       Leigh syndrome  \n",
              "4                               Cancer  \n",
              "\n",
              "[5 rows x 45 columns]"
            ],
            "text/html": [
              "\n",
              "  <div id=\"df-a862539e-3150-41e7-967c-c1926a416a65\" class=\"colab-df-container\">\n",
              "    <div>\n",
              "<style scoped>\n",
              "    .dataframe tbody tr th:only-of-type {\n",
              "        vertical-align: middle;\n",
              "    }\n",
              "\n",
              "    .dataframe tbody tr th {\n",
              "        vertical-align: top;\n",
              "    }\n",
              "\n",
              "    .dataframe thead th {\n",
              "        text-align: right;\n",
              "    }\n",
              "</style>\n",
              "<table border=\"1\" class=\"dataframe\">\n",
              "  <thead>\n",
              "    <tr style=\"text-align: right;\">\n",
              "      <th></th>\n",
              "      <th>Patient Id</th>\n",
              "      <th>Patient Age</th>\n",
              "      <th>Genes in mother's side</th>\n",
              "      <th>Inherited from father</th>\n",
              "      <th>Maternal gene</th>\n",
              "      <th>Paternal gene</th>\n",
              "      <th>Blood cell count (mcL)</th>\n",
              "      <th>Patient First Name</th>\n",
              "      <th>Family Name</th>\n",
              "      <th>Father's name</th>\n",
              "      <th>...</th>\n",
              "      <th>Birth defects</th>\n",
              "      <th>White Blood cell count (thousand per microliter)</th>\n",
              "      <th>Blood test result</th>\n",
              "      <th>Symptom 1</th>\n",
              "      <th>Symptom 2</th>\n",
              "      <th>Symptom 3</th>\n",
              "      <th>Symptom 4</th>\n",
              "      <th>Symptom 5</th>\n",
              "      <th>Genetic Disorder</th>\n",
              "      <th>Disorder Subclass</th>\n",
              "    </tr>\n",
              "  </thead>\n",
              "  <tbody>\n",
              "    <tr>\n",
              "      <th>0</th>\n",
              "      <td>PID0x6418</td>\n",
              "      <td>2.0</td>\n",
              "      <td>Yes</td>\n",
              "      <td>No</td>\n",
              "      <td>Yes</td>\n",
              "      <td>No</td>\n",
              "      <td>4.760603</td>\n",
              "      <td>Richard</td>\n",
              "      <td>NaN</td>\n",
              "      <td>Larre</td>\n",
              "      <td>...</td>\n",
              "      <td>NaN</td>\n",
              "      <td>9.857562</td>\n",
              "      <td>NaN</td>\n",
              "      <td>1.0</td>\n",
              "      <td>1.0</td>\n",
              "      <td>1.0</td>\n",
              "      <td>1.0</td>\n",
              "      <td>1.0</td>\n",
              "      <td>Mitochondrial genetic inheritance disorders</td>\n",
              "      <td>Leber's hereditary optic neuropathy</td>\n",
              "    </tr>\n",
              "    <tr>\n",
              "      <th>1</th>\n",
              "      <td>PID0x25d5</td>\n",
              "      <td>4.0</td>\n",
              "      <td>Yes</td>\n",
              "      <td>Yes</td>\n",
              "      <td>No</td>\n",
              "      <td>No</td>\n",
              "      <td>4.910669</td>\n",
              "      <td>Mike</td>\n",
              "      <td>NaN</td>\n",
              "      <td>Brycen</td>\n",
              "      <td>...</td>\n",
              "      <td>Multiple</td>\n",
              "      <td>5.522560</td>\n",
              "      <td>normal</td>\n",
              "      <td>1.0</td>\n",
              "      <td>NaN</td>\n",
              "      <td>1.0</td>\n",
              "      <td>1.0</td>\n",
              "      <td>0.0</td>\n",
              "      <td>NaN</td>\n",
              "      <td>Cystic fibrosis</td>\n",
              "    </tr>\n",
              "    <tr>\n",
              "      <th>2</th>\n",
              "      <td>PID0x4a82</td>\n",
              "      <td>6.0</td>\n",
              "      <td>Yes</td>\n",
              "      <td>No</td>\n",
              "      <td>No</td>\n",
              "      <td>No</td>\n",
              "      <td>4.893297</td>\n",
              "      <td>Kimberly</td>\n",
              "      <td>NaN</td>\n",
              "      <td>Nashon</td>\n",
              "      <td>...</td>\n",
              "      <td>Singular</td>\n",
              "      <td>NaN</td>\n",
              "      <td>normal</td>\n",
              "      <td>0.0</td>\n",
              "      <td>1.0</td>\n",
              "      <td>1.0</td>\n",
              "      <td>1.0</td>\n",
              "      <td>1.0</td>\n",
              "      <td>Multifactorial genetic inheritance disorders</td>\n",
              "      <td>Diabetes</td>\n",
              "    </tr>\n",
              "    <tr>\n",
              "      <th>3</th>\n",
              "      <td>PID0x4ac8</td>\n",
              "      <td>12.0</td>\n",
              "      <td>Yes</td>\n",
              "      <td>No</td>\n",
              "      <td>Yes</td>\n",
              "      <td>No</td>\n",
              "      <td>4.705280</td>\n",
              "      <td>Jeffery</td>\n",
              "      <td>Hoelscher</td>\n",
              "      <td>Aayaan</td>\n",
              "      <td>...</td>\n",
              "      <td>Singular</td>\n",
              "      <td>7.919321</td>\n",
              "      <td>inconclusive</td>\n",
              "      <td>0.0</td>\n",
              "      <td>0.0</td>\n",
              "      <td>1.0</td>\n",
              "      <td>0.0</td>\n",
              "      <td>0.0</td>\n",
              "      <td>Mitochondrial genetic inheritance disorders</td>\n",
              "      <td>Leigh syndrome</td>\n",
              "    </tr>\n",
              "    <tr>\n",
              "      <th>4</th>\n",
              "      <td>PID0x1bf7</td>\n",
              "      <td>11.0</td>\n",
              "      <td>Yes</td>\n",
              "      <td>No</td>\n",
              "      <td>NaN</td>\n",
              "      <td>Yes</td>\n",
              "      <td>4.720703</td>\n",
              "      <td>Johanna</td>\n",
              "      <td>Stutzman</td>\n",
              "      <td>Suave</td>\n",
              "      <td>...</td>\n",
              "      <td>Multiple</td>\n",
              "      <td>4.098210</td>\n",
              "      <td>NaN</td>\n",
              "      <td>0.0</td>\n",
              "      <td>0.0</td>\n",
              "      <td>0.0</td>\n",
              "      <td>0.0</td>\n",
              "      <td>NaN</td>\n",
              "      <td>Multifactorial genetic inheritance disorders</td>\n",
              "      <td>Cancer</td>\n",
              "    </tr>\n",
              "  </tbody>\n",
              "</table>\n",
              "<p>5 rows × 45 columns</p>\n",
              "</div>\n",
              "    <div class=\"colab-df-buttons\">\n",
              "\n",
              "  <div class=\"colab-df-container\">\n",
              "    <button class=\"colab-df-convert\" onclick=\"convertToInteractive('df-a862539e-3150-41e7-967c-c1926a416a65')\"\n",
              "            title=\"Convert this dataframe to an interactive table.\"\n",
              "            style=\"display:none;\">\n",
              "\n",
              "  <svg xmlns=\"http://www.w3.org/2000/svg\" height=\"24px\" viewBox=\"0 -960 960 960\">\n",
              "    <path d=\"M120-120v-720h720v720H120Zm60-500h600v-160H180v160Zm220 220h160v-160H400v160Zm0 220h160v-160H400v160ZM180-400h160v-160H180v160Zm440 0h160v-160H620v160ZM180-180h160v-160H180v160Zm440 0h160v-160H620v160Z\"/>\n",
              "  </svg>\n",
              "    </button>\n",
              "\n",
              "  <style>\n",
              "    .colab-df-container {\n",
              "      display:flex;\n",
              "      gap: 12px;\n",
              "    }\n",
              "\n",
              "    .colab-df-convert {\n",
              "      background-color: #E8F0FE;\n",
              "      border: none;\n",
              "      border-radius: 50%;\n",
              "      cursor: pointer;\n",
              "      display: none;\n",
              "      fill: #1967D2;\n",
              "      height: 32px;\n",
              "      padding: 0 0 0 0;\n",
              "      width: 32px;\n",
              "    }\n",
              "\n",
              "    .colab-df-convert:hover {\n",
              "      background-color: #E2EBFA;\n",
              "      box-shadow: 0px 1px 2px rgba(60, 64, 67, 0.3), 0px 1px 3px 1px rgba(60, 64, 67, 0.15);\n",
              "      fill: #174EA6;\n",
              "    }\n",
              "\n",
              "    .colab-df-buttons div {\n",
              "      margin-bottom: 4px;\n",
              "    }\n",
              "\n",
              "    [theme=dark] .colab-df-convert {\n",
              "      background-color: #3B4455;\n",
              "      fill: #D2E3FC;\n",
              "    }\n",
              "\n",
              "    [theme=dark] .colab-df-convert:hover {\n",
              "      background-color: #434B5C;\n",
              "      box-shadow: 0px 1px 3px 1px rgba(0, 0, 0, 0.15);\n",
              "      filter: drop-shadow(0px 1px 2px rgba(0, 0, 0, 0.3));\n",
              "      fill: #FFFFFF;\n",
              "    }\n",
              "  </style>\n",
              "\n",
              "    <script>\n",
              "      const buttonEl =\n",
              "        document.querySelector('#df-a862539e-3150-41e7-967c-c1926a416a65 button.colab-df-convert');\n",
              "      buttonEl.style.display =\n",
              "        google.colab.kernel.accessAllowed ? 'block' : 'none';\n",
              "\n",
              "      async function convertToInteractive(key) {\n",
              "        const element = document.querySelector('#df-a862539e-3150-41e7-967c-c1926a416a65');\n",
              "        const dataTable =\n",
              "          await google.colab.kernel.invokeFunction('convertToInteractive',\n",
              "                                                    [key], {});\n",
              "        if (!dataTable) return;\n",
              "\n",
              "        const docLinkHtml = 'Like what you see? Visit the ' +\n",
              "          '<a target=\"_blank\" href=https://colab.research.google.com/notebooks/data_table.ipynb>data table notebook</a>'\n",
              "          + ' to learn more about interactive tables.';\n",
              "        element.innerHTML = '';\n",
              "        dataTable['output_type'] = 'display_data';\n",
              "        await google.colab.output.renderOutput(dataTable, element);\n",
              "        const docLink = document.createElement('div');\n",
              "        docLink.innerHTML = docLinkHtml;\n",
              "        element.appendChild(docLink);\n",
              "      }\n",
              "    </script>\n",
              "  </div>\n",
              "\n",
              "\n",
              "<div id=\"df-d28b8515-835d-4f2d-b0cf-66e0fff64d28\">\n",
              "  <button class=\"colab-df-quickchart\" onclick=\"quickchart('df-d28b8515-835d-4f2d-b0cf-66e0fff64d28')\"\n",
              "            title=\"Suggest charts\"\n",
              "            style=\"display:none;\">\n",
              "\n",
              "<svg xmlns=\"http://www.w3.org/2000/svg\" height=\"24px\"viewBox=\"0 0 24 24\"\n",
              "     width=\"24px\">\n",
              "    <g>\n",
              "        <path d=\"M19 3H5c-1.1 0-2 .9-2 2v14c0 1.1.9 2 2 2h14c1.1 0 2-.9 2-2V5c0-1.1-.9-2-2-2zM9 17H7v-7h2v7zm4 0h-2V7h2v10zm4 0h-2v-4h2v4z\"/>\n",
              "    </g>\n",
              "</svg>\n",
              "  </button>\n",
              "\n",
              "<style>\n",
              "  .colab-df-quickchart {\n",
              "      --bg-color: #E8F0FE;\n",
              "      --fill-color: #1967D2;\n",
              "      --hover-bg-color: #E2EBFA;\n",
              "      --hover-fill-color: #174EA6;\n",
              "      --disabled-fill-color: #AAA;\n",
              "      --disabled-bg-color: #DDD;\n",
              "  }\n",
              "\n",
              "  [theme=dark] .colab-df-quickchart {\n",
              "      --bg-color: #3B4455;\n",
              "      --fill-color: #D2E3FC;\n",
              "      --hover-bg-color: #434B5C;\n",
              "      --hover-fill-color: #FFFFFF;\n",
              "      --disabled-bg-color: #3B4455;\n",
              "      --disabled-fill-color: #666;\n",
              "  }\n",
              "\n",
              "  .colab-df-quickchart {\n",
              "    background-color: var(--bg-color);\n",
              "    border: none;\n",
              "    border-radius: 50%;\n",
              "    cursor: pointer;\n",
              "    display: none;\n",
              "    fill: var(--fill-color);\n",
              "    height: 32px;\n",
              "    padding: 0;\n",
              "    width: 32px;\n",
              "  }\n",
              "\n",
              "  .colab-df-quickchart:hover {\n",
              "    background-color: var(--hover-bg-color);\n",
              "    box-shadow: 0 1px 2px rgba(60, 64, 67, 0.3), 0 1px 3px 1px rgba(60, 64, 67, 0.15);\n",
              "    fill: var(--button-hover-fill-color);\n",
              "  }\n",
              "\n",
              "  .colab-df-quickchart-complete:disabled,\n",
              "  .colab-df-quickchart-complete:disabled:hover {\n",
              "    background-color: var(--disabled-bg-color);\n",
              "    fill: var(--disabled-fill-color);\n",
              "    box-shadow: none;\n",
              "  }\n",
              "\n",
              "  .colab-df-spinner {\n",
              "    border: 2px solid var(--fill-color);\n",
              "    border-color: transparent;\n",
              "    border-bottom-color: var(--fill-color);\n",
              "    animation:\n",
              "      spin 1s steps(1) infinite;\n",
              "  }\n",
              "\n",
              "  @keyframes spin {\n",
              "    0% {\n",
              "      border-color: transparent;\n",
              "      border-bottom-color: var(--fill-color);\n",
              "      border-left-color: var(--fill-color);\n",
              "    }\n",
              "    20% {\n",
              "      border-color: transparent;\n",
              "      border-left-color: var(--fill-color);\n",
              "      border-top-color: var(--fill-color);\n",
              "    }\n",
              "    30% {\n",
              "      border-color: transparent;\n",
              "      border-left-color: var(--fill-color);\n",
              "      border-top-color: var(--fill-color);\n",
              "      border-right-color: var(--fill-color);\n",
              "    }\n",
              "    40% {\n",
              "      border-color: transparent;\n",
              "      border-right-color: var(--fill-color);\n",
              "      border-top-color: var(--fill-color);\n",
              "    }\n",
              "    60% {\n",
              "      border-color: transparent;\n",
              "      border-right-color: var(--fill-color);\n",
              "    }\n",
              "    80% {\n",
              "      border-color: transparent;\n",
              "      border-right-color: var(--fill-color);\n",
              "      border-bottom-color: var(--fill-color);\n",
              "    }\n",
              "    90% {\n",
              "      border-color: transparent;\n",
              "      border-bottom-color: var(--fill-color);\n",
              "    }\n",
              "  }\n",
              "</style>\n",
              "\n",
              "  <script>\n",
              "    async function quickchart(key) {\n",
              "      const quickchartButtonEl =\n",
              "        document.querySelector('#' + key + ' button');\n",
              "      quickchartButtonEl.disabled = true;  // To prevent multiple clicks.\n",
              "      quickchartButtonEl.classList.add('colab-df-spinner');\n",
              "      try {\n",
              "        const charts = await google.colab.kernel.invokeFunction(\n",
              "            'suggestCharts', [key], {});\n",
              "      } catch (error) {\n",
              "        console.error('Error during call to suggestCharts:', error);\n",
              "      }\n",
              "      quickchartButtonEl.classList.remove('colab-df-spinner');\n",
              "      quickchartButtonEl.classList.add('colab-df-quickchart-complete');\n",
              "    }\n",
              "    (() => {\n",
              "      let quickchartButtonEl =\n",
              "        document.querySelector('#df-d28b8515-835d-4f2d-b0cf-66e0fff64d28 button');\n",
              "      quickchartButtonEl.style.display =\n",
              "        google.colab.kernel.accessAllowed ? 'block' : 'none';\n",
              "    })();\n",
              "  </script>\n",
              "</div>\n",
              "\n",
              "    </div>\n",
              "  </div>\n"
            ],
            "application/vnd.google.colaboratory.intrinsic+json": {
              "type": "dataframe",
              "variable_name": "df"
            }
          },
          "metadata": {},
          "execution_count": 6
        }
      ]
    },
    {
      "cell_type": "code",
      "source": [
        "df.info()"
      ],
      "metadata": {
        "id": "vOS4zROYqpgN",
        "colab": {
          "base_uri": "https://localhost:8080/"
        },
        "outputId": "66abb770-a3f4-4a31-afbd-0b0d02a01963"
      },
      "execution_count": null,
      "outputs": [
        {
          "output_type": "stream",
          "name": "stdout",
          "text": [
            "<class 'pandas.core.frame.DataFrame'>\n",
            "RangeIndex: 22083 entries, 0 to 22082\n",
            "Data columns (total 45 columns):\n",
            " #   Column                                            Non-Null Count  Dtype  \n",
            "---  ------                                            --------------  -----  \n",
            " 0   Patient Id                                        21011 non-null  object \n",
            " 1   Patient Age                                       19643 non-null  float64\n",
            " 2   Genes in mother's side                            21011 non-null  object \n",
            " 3   Inherited from father                             20724 non-null  object \n",
            " 4   Maternal gene                                     18317 non-null  object \n",
            " 5   Paternal gene                                     21011 non-null  object \n",
            " 6   Blood cell count (mcL)                            21011 non-null  float64\n",
            " 7   Patient First Name                                21011 non-null  object \n",
            " 8   Family Name                                       11771 non-null  object \n",
            " 9   Father's name                                     21011 non-null  object \n",
            " 10  Mother's age                                      15293 non-null  float64\n",
            " 11  Father's age                                      15322 non-null  float64\n",
            " 12  Institute Name                                    16151 non-null  object \n",
            " 13  Location of Institute                             21011 non-null  object \n",
            " 14  Status                                            21011 non-null  object \n",
            " 15  Respiratory Rate (breaths/min)                    18952 non-null  object \n",
            " 16  Heart Rate (rates/min                             18986 non-null  object \n",
            " 17  Test 1                                            18992 non-null  float64\n",
            " 18  Test 2                                            18958 non-null  float64\n",
            " 19  Test 3                                            18970 non-null  float64\n",
            " 20  Test 4                                            18962 non-null  float64\n",
            " 21  Test 5                                            18939 non-null  float64\n",
            " 22  Parental consent                                  18991 non-null  object \n",
            " 23  Follow-up                                         18941 non-null  object \n",
            " 24  Gender                                            18948 non-null  object \n",
            " 25  Birth asphyxia                                    18953 non-null  object \n",
            " 26  Autopsy shows birth defect (if applicable)        20045 non-null  object \n",
            " 27  Place of birth                                    18993 non-null  object \n",
            " 28  Folic acid details (peri-conceptional)            18998 non-null  object \n",
            " 29  H/O serious maternal illness                      18959 non-null  object \n",
            " 30  H/O radiation exposure (x-ray)                    18964 non-null  object \n",
            " 31  H/O substance abuse                               18921 non-null  object \n",
            " 32  Assisted conception IVF/ART                       19007 non-null  object \n",
            " 33  History of anomalies in previous pregnancies      18945 non-null  object \n",
            " 34  No. of previous abortion                          18957 non-null  float64\n",
            " 35  Birth defects                                     18959 non-null  object \n",
            " 36  White Blood cell count (thousand per microliter)  18965 non-null  float64\n",
            " 37  Blood test result                                 18977 non-null  object \n",
            " 38  Symptom 1                                         18955 non-null  float64\n",
            " 39  Symptom 2                                         18899 non-null  float64\n",
            " 40  Symptom 3                                         19008 non-null  float64\n",
            " 41  Symptom 4                                         18987 non-null  float64\n",
            " 42  Symptom 5                                         18956 non-null  float64\n",
            " 43  Genetic Disorder                                  18962 non-null  object \n",
            " 44  Disorder Subclass                                 18943 non-null  object \n",
            "dtypes: float64(16), object(29)\n",
            "memory usage: 7.6+ MB\n"
          ]
        }
      ]
    },
    {
      "cell_type": "code",
      "source": [
        "df.shape"
      ],
      "metadata": {
        "id": "ptyFibROqtGc",
        "colab": {
          "base_uri": "https://localhost:8080/"
        },
        "outputId": "b3a836c5-eb1d-4db6-f855-ddb942f1007e"
      },
      "execution_count": null,
      "outputs": [
        {
          "output_type": "execute_result",
          "data": {
            "text/plain": [
              "(22083, 45)"
            ]
          },
          "metadata": {},
          "execution_count": 8
        }
      ]
    },
    {
      "cell_type": "code",
      "source": [
        "X = df.copy()"
      ],
      "metadata": {
        "id": "Q4uBq1NkpHIy"
      },
      "execution_count": null,
      "outputs": []
    },
    {
      "cell_type": "code",
      "source": [
        "X.var()"
      ],
      "metadata": {
        "id": "HlaxNZTJL_pY",
        "colab": {
          "base_uri": "https://localhost:8080/"
        },
        "outputId": "ff722c6c-39d3-4b93-cdf4-92ed504912f7"
      },
      "execution_count": null,
      "outputs": [
        {
          "output_type": "stream",
          "name": "stderr",
          "text": [
            "<ipython-input-10-fdf0a9936c9b>:1: FutureWarning: The default value of numeric_only in DataFrame.var is deprecated. In a future version, it will default to False. In addition, specifying 'numeric_only=None' is deprecated. Select only valid columns or specify the value of numeric_only to silence this warning.\n",
            "  X.var()\n"
          ]
        },
        {
          "output_type": "execute_result",
          "data": {
            "text/plain": [
              "Patient Age                                          18.684736\n",
              "Blood cell count (mcL)                                0.039932\n",
              "Mother's age                                         96.968447\n",
              "Father's age                                        169.720986\n",
              "Test 1                                                0.000000\n",
              "Test 2                                                0.000000\n",
              "Test 3                                                0.000000\n",
              "Test 4                                                0.000000\n",
              "Test 5                                                0.000000\n",
              "No. of previous abortion                              1.992298\n",
              "White Blood cell count (thousand per microliter)      7.041770\n",
              "Symptom 1                                             0.241543\n",
              "Symptom 2                                             0.247216\n",
              "Symptom 3                                             0.248614\n",
              "Symptom 4                                             0.250006\n",
              "Symptom 5                                             0.248477\n",
              "dtype: float64"
            ]
          },
          "metadata": {},
          "execution_count": 10
        }
      ]
    },
    {
      "cell_type": "code",
      "source": [
        "X.drop(\"Patient Id\", axis=1, inplace=True)\n",
        "X.drop(\"Patient First Name\", axis=1, inplace=True)\n",
        "X.drop(\"Family Name\", axis=1, inplace=True)\n",
        "X.drop(\"Father's name\", axis=1, inplace=True)\n",
        "X.drop(\"Institute Name\", axis=1, inplace=True)\n",
        "X.drop(\"Location of Institute\", axis=1, inplace=True)\n",
        "X.drop(\"Place of birth\", axis=1, inplace=True)\n",
        "X.drop(\"Test 1\", axis=1, inplace=True)\n",
        "X.drop(\"Test 2\", axis=1, inplace=True)\n",
        "X.drop(\"Test 3\", axis=1, inplace=True)\n",
        "X.drop(\"Test 4\", axis=1, inplace=True)\n",
        "X.drop(\"Test 5\", axis=1, inplace=True)\n",
        "X.drop(\"Parental consent\", axis=1, inplace=True)"
      ],
      "metadata": {
        "id": "tSY7RPQBr5_8"
      },
      "execution_count": null,
      "outputs": []
    },
    {
      "cell_type": "code",
      "source": [
        "X.isna().sum() / len(df) * 100"
      ],
      "metadata": {
        "id": "tqr7EXu1q4wk",
        "colab": {
          "base_uri": "https://localhost:8080/"
        },
        "outputId": "60b6e859-09c3-4a14-a42a-001e15171b3f"
      },
      "execution_count": null,
      "outputs": [
        {
          "output_type": "execute_result",
          "data": {
            "text/plain": [
              "Patient Age                                         11.049223\n",
              "Genes in mother's side                               4.854413\n",
              "Inherited from father                                6.154055\n",
              "Maternal gene                                       17.053842\n",
              "Paternal gene                                        4.854413\n",
              "Blood cell count (mcL)                               4.854413\n",
              "Mother's age                                        30.747634\n",
              "Father's age                                        30.616311\n",
              "Status                                               4.854413\n",
              "Respiratory Rate (breaths/min)                      14.178327\n",
              "Heart Rate (rates/min                               14.024363\n",
              "Follow-up                                           14.228139\n",
              "Gender                                              14.196441\n",
              "Birth asphyxia                                      14.173799\n",
              "Autopsy shows birth defect (if applicable)           9.228819\n",
              "Folic acid details (peri-conceptional)              13.970022\n",
              "H/O serious maternal illness                        14.146629\n",
              "H/O radiation exposure (x-ray)                      14.123987\n",
              "H/O substance abuse                                 14.318707\n",
              "Assisted conception IVF/ART                         13.929267\n",
              "History of anomalies in previous pregnancies        14.210026\n",
              "No. of previous abortion                            14.155685\n",
              "Birth defects                                       14.146629\n",
              "White Blood cell count (thousand per microliter)    14.119458\n",
              "Blood test result                                   14.065118\n",
              "Symptom 1                                           14.164742\n",
              "Symptom 2                                           14.418331\n",
              "Symptom 3                                           13.924738\n",
              "Symptom 4                                           14.019834\n",
              "Symptom 5                                           14.160214\n",
              "Genetic Disorder                                    14.133044\n",
              "Disorder Subclass                                   14.219083\n",
              "dtype: float64"
            ]
          },
          "metadata": {},
          "execution_count": 12
        }
      ]
    },
    {
      "cell_type": "code",
      "source": [
        "for col in X.columns:\n",
        "  unique_vals = X[col].unique()\n",
        "  print(f\"Unique values in {col} : {unique_vals}\")"
      ],
      "metadata": {
        "id": "2FrtSatke8Vn",
        "colab": {
          "base_uri": "https://localhost:8080/"
        },
        "outputId": "39ce5d24-b0f2-4bf7-ce77-92873dd3fb1e"
      },
      "execution_count": null,
      "outputs": [
        {
          "output_type": "stream",
          "name": "stdout",
          "text": [
            "Unique values in Patient Age : [ 2.  4.  6. 12. 11. 14.  3.  7.  1.  0. nan 10.  5. 13.  8.  9.]\n",
            "Unique values in Genes in mother's side : ['Yes' 'No' nan]\n",
            "Unique values in Inherited from father : ['No' 'Yes' nan]\n",
            "Unique values in Maternal gene : ['Yes' 'No' nan]\n",
            "Unique values in Paternal gene : ['No' 'Yes' nan]\n",
            "Unique values in Blood cell count (mcL) : [4.76060309 4.91066906 4.89329743 ... 5.22482777 5.13794212        nan]\n",
            "Unique values in Mother's age : [nan 41. 21. 32. 40. 45. 44. 50. 28. 30. 24. 36. 51. 23. 49. 46. 18. 38.\n",
            " 37. 42. 48. 25. 19. 47. 34. 35. 22. 33. 20. 26. 31. 29. 27. 43. 39.]\n",
            "Unique values in Father's age : [nan 23. 22. 63. 44. 42. 56. 20. 24. 57. 48. 30. 55. 62. 43. 32. 41. 52.\n",
            " 28. 31. 61. 35. 49. 50. 29. 64. 39. 34. 51. 25. 60. 53. 58. 26. 27. 59.\n",
            " 47. 38. 54. 21. 37. 36. 33. 46. 40. 45.]\n",
            "Unique values in Status : ['Alive' 'Deceased' nan]\n",
            "Unique values in Respiratory Rate (breaths/min) : ['Normal (30-60)' 'Tachypnea' nan]\n",
            "Unique values in Heart Rate (rates/min : ['Normal' 'Tachycardia' nan]\n",
            "Unique values in Follow-up : ['High' 'Low' nan]\n",
            "Unique values in Gender : [nan 'Male' 'Female' 'Ambiguous']\n",
            "Unique values in Birth asphyxia : [nan 'No' 'No record' 'Not available' 'Yes']\n",
            "Unique values in Autopsy shows birth defect (if applicable) : ['Not applicable' 'None' 'No' 'Yes' nan]\n",
            "Unique values in Folic acid details (peri-conceptional) : ['No' 'Yes' nan]\n",
            "Unique values in H/O serious maternal illness : [nan 'Yes' 'No']\n",
            "Unique values in H/O radiation exposure (x-ray) : ['No' 'Not applicable' 'Yes' '-' nan]\n",
            "Unique values in H/O substance abuse : ['No' 'Not applicable' nan '-' 'Yes']\n",
            "Unique values in Assisted conception IVF/ART : ['No' 'Yes' nan]\n",
            "Unique values in History of anomalies in previous pregnancies : ['Yes' 'No' nan]\n",
            "Unique values in No. of previous abortion : [nan  4.  1.  0.  3.  2.]\n",
            "Unique values in Birth defects : [nan 'Multiple' 'Singular']\n",
            "Unique values in White Blood cell count (thousand per microliter) : [9.85756248 5.52255993        nan ... 7.08631173 7.92474616 6.75186636]\n",
            "Unique values in Blood test result : [nan 'normal' 'inconclusive' 'slightly abnormal' 'abnormal']\n",
            "Unique values in Symptom 1 : [ 1.  0. nan]\n",
            "Unique values in Symptom 2 : [ 1. nan  0.]\n",
            "Unique values in Symptom 3 : [ 1.  0. nan]\n",
            "Unique values in Symptom 4 : [ 1.  0. nan]\n",
            "Unique values in Symptom 5 : [ 1.  0. nan]\n",
            "Unique values in Genetic Disorder : ['Mitochondrial genetic inheritance disorders' nan\n",
            " 'Multifactorial genetic inheritance disorders'\n",
            " 'Single-gene inheritance diseases']\n",
            "Unique values in Disorder Subclass : [\"Leber's hereditary optic neuropathy\" 'Cystic fibrosis' 'Diabetes'\n",
            " 'Leigh syndrome' 'Cancer' 'Tay-Sachs' 'Hemochromatosis'\n",
            " 'Mitochondrial myopathy' nan \"Alzheimer's\"]\n"
          ]
        }
      ]
    },
    {
      "cell_type": "code",
      "source": [
        "from sklearn.impute import SimpleImputer\n",
        "\n",
        "num = X.select_dtypes(include=['number'])\n",
        "cat = X.select_dtypes(include=['object'])\n",
        "\n",
        "num_imputer = SimpleImputer(strategy='most_frequent')\n",
        "num_imputed = num_imputer.fit_transform(num)\n",
        "num.columns = num.columns\n",
        "\n",
        "cat_imputer = SimpleImputer(strategy='most_frequent')\n",
        "cat_imputed = cat_imputer.fit_transform(cat)\n",
        "cat.columns = cat.columns\n",
        "\n",
        "X = pd.concat([pd.DataFrame(num_imputed, columns=num.columns),\n",
        "                      pd.DataFrame(cat_imputed, columns=cat.columns)],\n",
        "                      axis=1)"
      ],
      "metadata": {
        "id": "Z-MAlaPwwY_f"
      },
      "execution_count": null,
      "outputs": []
    },
    {
      "cell_type": "code",
      "source": [
        "X.isna().sum() / len(df) * 100"
      ],
      "metadata": {
        "id": "uIthzDJLw_pn",
        "colab": {
          "base_uri": "https://localhost:8080/"
        },
        "outputId": "cbebf79d-4c2e-431d-e640-627bf5e85aa5"
      },
      "execution_count": null,
      "outputs": [
        {
          "output_type": "execute_result",
          "data": {
            "text/plain": [
              "Patient Age                                         0.0\n",
              "Blood cell count (mcL)                              0.0\n",
              "Mother's age                                        0.0\n",
              "Father's age                                        0.0\n",
              "No. of previous abortion                            0.0\n",
              "White Blood cell count (thousand per microliter)    0.0\n",
              "Symptom 1                                           0.0\n",
              "Symptom 2                                           0.0\n",
              "Symptom 3                                           0.0\n",
              "Symptom 4                                           0.0\n",
              "Symptom 5                                           0.0\n",
              "Genes in mother's side                              0.0\n",
              "Inherited from father                               0.0\n",
              "Maternal gene                                       0.0\n",
              "Paternal gene                                       0.0\n",
              "Status                                              0.0\n",
              "Respiratory Rate (breaths/min)                      0.0\n",
              "Heart Rate (rates/min                               0.0\n",
              "Follow-up                                           0.0\n",
              "Gender                                              0.0\n",
              "Birth asphyxia                                      0.0\n",
              "Autopsy shows birth defect (if applicable)          0.0\n",
              "Folic acid details (peri-conceptional)              0.0\n",
              "H/O serious maternal illness                        0.0\n",
              "H/O radiation exposure (x-ray)                      0.0\n",
              "H/O substance abuse                                 0.0\n",
              "Assisted conception IVF/ART                         0.0\n",
              "History of anomalies in previous pregnancies        0.0\n",
              "Birth defects                                       0.0\n",
              "Blood test result                                   0.0\n",
              "Genetic Disorder                                    0.0\n",
              "Disorder Subclass                                   0.0\n",
              "dtype: float64"
            ]
          },
          "metadata": {},
          "execution_count": 15
        }
      ]
    },
    {
      "cell_type": "code",
      "source": [
        "from sklearn.preprocessing import LabelEncoder\n",
        "\n",
        "encoder = LabelEncoder()\n",
        "for col in X:\n",
        "  if(X[col].dtype == 'object'):\n",
        "    X[col] = encoder.fit_transform(X[col])"
      ],
      "metadata": {
        "id": "GiN7THKYwNfi"
      },
      "execution_count": null,
      "outputs": []
    },
    {
      "cell_type": "code",
      "source": [
        "for col in X.columns:\n",
        "  unique_vals = X[col].unique()\n",
        "  print(f\"{col} : {unique_vals}\")"
      ],
      "metadata": {
        "id": "Vmjke0R0mRmJ",
        "colab": {
          "base_uri": "https://localhost:8080/"
        },
        "outputId": "a2c2b612-d836-495e-b635-9666f6d2ed13"
      },
      "execution_count": null,
      "outputs": [
        {
          "output_type": "stream",
          "name": "stdout",
          "text": [
            "Patient Age : [ 2.  4.  6. 12. 11. 14.  3.  7.  1.  0. 10.  5. 13.  8.  9.]\n",
            "Blood cell count (mcL) : [4.76060309 4.91066906 4.89329743 ... 5.08483063 5.22482777 5.13794212]\n",
            "Mother's age : [23. 41. 21. 32. 40. 45. 44. 50. 28. 30. 24. 36. 51. 49. 46. 18. 38. 37.\n",
            " 42. 48. 25. 19. 47. 34. 35. 22. 33. 20. 26. 31. 29. 27. 43. 39.]\n",
            "Father's age : [20. 23. 22. 63. 44. 42. 56. 24. 57. 48. 30. 55. 62. 43. 32. 41. 52. 28.\n",
            " 31. 61. 35. 49. 50. 29. 64. 39. 34. 51. 25. 60. 53. 58. 26. 27. 59. 47.\n",
            " 38. 54. 21. 37. 36. 33. 46. 40. 45.]\n",
            "No. of previous abortion : [2. 4. 1. 0. 3.]\n",
            "White Blood cell count (thousand per microliter) : [ 9.85756248  5.52255993 12.         ...  7.08631173  7.92474616\n",
            "  6.75186636]\n",
            "Symptom 1 : [1. 0.]\n",
            "Symptom 2 : [1. 0.]\n",
            "Symptom 3 : [1. 0.]\n",
            "Symptom 4 : [1. 0.]\n",
            "Symptom 5 : [1. 0.]\n",
            "Genes in mother's side : [1 0]\n",
            "Inherited from father : [0 1]\n",
            "Maternal gene : [1 0]\n",
            "Paternal gene : [0 1]\n",
            "Status : [0 1]\n",
            "Respiratory Rate (breaths/min) : [0 1]\n",
            "Heart Rate (rates/min : [0 1]\n",
            "Follow-up : [0 1]\n",
            "Gender : [0 2 1]\n",
            "Birth asphyxia : [3 0 1 2]\n",
            "Autopsy shows birth defect (if applicable) : [2 1 0 3]\n",
            "Folic acid details (peri-conceptional) : [0 1]\n",
            "H/O serious maternal illness : [0 1]\n",
            "H/O radiation exposure (x-ray) : [1 2 3 0]\n",
            "H/O substance abuse : [1 2 0 3]\n",
            "Assisted conception IVF/ART : [0 1]\n",
            "History of anomalies in previous pregnancies : [1 0]\n",
            "Birth defects : [1 0]\n",
            "Blood test result : [3 2 1 0]\n",
            "Genetic Disorder : [0 1 2]\n",
            "Disorder Subclass : [5 2 3 6 1 8 4 7 0]\n"
          ]
        }
      ]
    },
    {
      "cell_type": "code",
      "source": [
        "X.info()"
      ],
      "metadata": {
        "id": "oV9gNutXcM_b",
        "colab": {
          "base_uri": "https://localhost:8080/"
        },
        "outputId": "d3bbd9f0-e4b7-4638-dbd7-034b4ddcaafa"
      },
      "execution_count": null,
      "outputs": [
        {
          "output_type": "stream",
          "name": "stdout",
          "text": [
            "<class 'pandas.core.frame.DataFrame'>\n",
            "RangeIndex: 22083 entries, 0 to 22082\n",
            "Data columns (total 32 columns):\n",
            " #   Column                                            Non-Null Count  Dtype  \n",
            "---  ------                                            --------------  -----  \n",
            " 0   Patient Age                                       22083 non-null  float64\n",
            " 1   Blood cell count (mcL)                            22083 non-null  float64\n",
            " 2   Mother's age                                      22083 non-null  float64\n",
            " 3   Father's age                                      22083 non-null  float64\n",
            " 4   No. of previous abortion                          22083 non-null  float64\n",
            " 5   White Blood cell count (thousand per microliter)  22083 non-null  float64\n",
            " 6   Symptom 1                                         22083 non-null  float64\n",
            " 7   Symptom 2                                         22083 non-null  float64\n",
            " 8   Symptom 3                                         22083 non-null  float64\n",
            " 9   Symptom 4                                         22083 non-null  float64\n",
            " 10  Symptom 5                                         22083 non-null  float64\n",
            " 11  Genes in mother's side                            22083 non-null  int64  \n",
            " 12  Inherited from father                             22083 non-null  int64  \n",
            " 13  Maternal gene                                     22083 non-null  int64  \n",
            " 14  Paternal gene                                     22083 non-null  int64  \n",
            " 15  Status                                            22083 non-null  int64  \n",
            " 16  Respiratory Rate (breaths/min)                    22083 non-null  int64  \n",
            " 17  Heart Rate (rates/min                             22083 non-null  int64  \n",
            " 18  Follow-up                                         22083 non-null  int64  \n",
            " 19  Gender                                            22083 non-null  int64  \n",
            " 20  Birth asphyxia                                    22083 non-null  int64  \n",
            " 21  Autopsy shows birth defect (if applicable)        22083 non-null  int64  \n",
            " 22  Folic acid details (peri-conceptional)            22083 non-null  int64  \n",
            " 23  H/O serious maternal illness                      22083 non-null  int64  \n",
            " 24  H/O radiation exposure (x-ray)                    22083 non-null  int64  \n",
            " 25  H/O substance abuse                               22083 non-null  int64  \n",
            " 26  Assisted conception IVF/ART                       22083 non-null  int64  \n",
            " 27  History of anomalies in previous pregnancies      22083 non-null  int64  \n",
            " 28  Birth defects                                     22083 non-null  int64  \n",
            " 29  Blood test result                                 22083 non-null  int64  \n",
            " 30  Genetic Disorder                                  22083 non-null  int64  \n",
            " 31  Disorder Subclass                                 22083 non-null  int64  \n",
            "dtypes: float64(11), int64(21)\n",
            "memory usage: 5.4 MB\n"
          ]
        }
      ]
    },
    {
      "cell_type": "code",
      "source": [
        "X = X.apply(pd.to_numeric, downcast='float')"
      ],
      "metadata": {
        "id": "qECyhmsSwymB"
      },
      "execution_count": null,
      "outputs": []
    },
    {
      "cell_type": "code",
      "source": [
        "X.dtypes"
      ],
      "metadata": {
        "id": "TI0DJPHXSLbf",
        "colab": {
          "base_uri": "https://localhost:8080/"
        },
        "outputId": "d4e49d04-af10-4548-ad0c-8ab37f8bae0e"
      },
      "execution_count": null,
      "outputs": [
        {
          "output_type": "execute_result",
          "data": {
            "text/plain": [
              "Patient Age                                         float32\n",
              "Blood cell count (mcL)                              float32\n",
              "Mother's age                                        float32\n",
              "Father's age                                        float32\n",
              "No. of previous abortion                            float32\n",
              "White Blood cell count (thousand per microliter)    float32\n",
              "Symptom 1                                           float32\n",
              "Symptom 2                                           float32\n",
              "Symptom 3                                           float32\n",
              "Symptom 4                                           float32\n",
              "Symptom 5                                           float32\n",
              "Genes in mother's side                              float32\n",
              "Inherited from father                               float32\n",
              "Maternal gene                                       float32\n",
              "Paternal gene                                       float32\n",
              "Status                                              float32\n",
              "Respiratory Rate (breaths/min)                      float32\n",
              "Heart Rate (rates/min                               float32\n",
              "Follow-up                                           float32\n",
              "Gender                                              float32\n",
              "Birth asphyxia                                      float32\n",
              "Autopsy shows birth defect (if applicable)          float32\n",
              "Folic acid details (peri-conceptional)              float32\n",
              "H/O serious maternal illness                        float32\n",
              "H/O radiation exposure (x-ray)                      float32\n",
              "H/O substance abuse                                 float32\n",
              "Assisted conception IVF/ART                         float32\n",
              "History of anomalies in previous pregnancies        float32\n",
              "Birth defects                                       float32\n",
              "Blood test result                                   float32\n",
              "Genetic Disorder                                    float32\n",
              "Disorder Subclass                                   float32\n",
              "dtype: object"
            ]
          },
          "metadata": {},
          "execution_count": 20
        }
      ]
    },
    {
      "cell_type": "code",
      "source": [
        "X[\"Genetic Disorder\"].value_counts()"
      ],
      "metadata": {
        "id": "4LFNUdEcNN95",
        "colab": {
          "base_uri": "https://localhost:8080/"
        },
        "outputId": "7f13b7eb-407b-46a5-e638-984ac8a8896c"
      },
      "execution_count": null,
      "outputs": [
        {
          "output_type": "execute_result",
          "data": {
            "text/plain": [
              "0.0    12807\n",
              "2.0     7291\n",
              "1.0     1985\n",
              "Name: Genetic Disorder, dtype: int64"
            ]
          },
          "metadata": {},
          "execution_count": 21
        }
      ]
    },
    {
      "cell_type": "code",
      "source": [
        "from sklearn.utils import resample\n",
        "\n",
        "max_count = X['Genetic Disorder'].value_counts().max()\n",
        "\n",
        "X = pd.concat([\n",
        "    resample(X[X['Genetic Disorder'] == label], replace=True, n_samples=max_count, random_state=42).reset_index(drop=True)\n",
        "    for label in X['Genetic Disorder'].unique()\n",
        "])\n"
      ],
      "metadata": {
        "id": "RN_KQIEqJyzJ"
      },
      "execution_count": null,
      "outputs": []
    },
    {
      "cell_type": "code",
      "source": [
        "X[\"Genetic Disorder\"].value_counts()"
      ],
      "metadata": {
        "id": "zaPaFDkaN-Jy",
        "colab": {
          "base_uri": "https://localhost:8080/"
        },
        "outputId": "aeba59f9-e3b4-424b-f7d1-d68b000b9dbf"
      },
      "execution_count": null,
      "outputs": [
        {
          "output_type": "execute_result",
          "data": {
            "text/plain": [
              "0.0    12807\n",
              "1.0    12807\n",
              "2.0    12807\n",
              "Name: Genetic Disorder, dtype: int64"
            ]
          },
          "metadata": {},
          "execution_count": 23
        }
      ]
    },
    {
      "cell_type": "code",
      "source": [
        "X.info()"
      ],
      "metadata": {
        "id": "PsETKnrCPFOj",
        "colab": {
          "base_uri": "https://localhost:8080/"
        },
        "outputId": "8f133c32-c5e9-43a9-d998-b187c661c4d9"
      },
      "execution_count": null,
      "outputs": [
        {
          "output_type": "stream",
          "name": "stdout",
          "text": [
            "<class 'pandas.core.frame.DataFrame'>\n",
            "Int64Index: 38421 entries, 0 to 12806\n",
            "Data columns (total 32 columns):\n",
            " #   Column                                            Non-Null Count  Dtype  \n",
            "---  ------                                            --------------  -----  \n",
            " 0   Patient Age                                       38421 non-null  float32\n",
            " 1   Blood cell count (mcL)                            38421 non-null  float32\n",
            " 2   Mother's age                                      38421 non-null  float32\n",
            " 3   Father's age                                      38421 non-null  float32\n",
            " 4   No. of previous abortion                          38421 non-null  float32\n",
            " 5   White Blood cell count (thousand per microliter)  38421 non-null  float32\n",
            " 6   Symptom 1                                         38421 non-null  float32\n",
            " 7   Symptom 2                                         38421 non-null  float32\n",
            " 8   Symptom 3                                         38421 non-null  float32\n",
            " 9   Symptom 4                                         38421 non-null  float32\n",
            " 10  Symptom 5                                         38421 non-null  float32\n",
            " 11  Genes in mother's side                            38421 non-null  float32\n",
            " 12  Inherited from father                             38421 non-null  float32\n",
            " 13  Maternal gene                                     38421 non-null  float32\n",
            " 14  Paternal gene                                     38421 non-null  float32\n",
            " 15  Status                                            38421 non-null  float32\n",
            " 16  Respiratory Rate (breaths/min)                    38421 non-null  float32\n",
            " 17  Heart Rate (rates/min                             38421 non-null  float32\n",
            " 18  Follow-up                                         38421 non-null  float32\n",
            " 19  Gender                                            38421 non-null  float32\n",
            " 20  Birth asphyxia                                    38421 non-null  float32\n",
            " 21  Autopsy shows birth defect (if applicable)        38421 non-null  float32\n",
            " 22  Folic acid details (peri-conceptional)            38421 non-null  float32\n",
            " 23  H/O serious maternal illness                      38421 non-null  float32\n",
            " 24  H/O radiation exposure (x-ray)                    38421 non-null  float32\n",
            " 25  H/O substance abuse                               38421 non-null  float32\n",
            " 26  Assisted conception IVF/ART                       38421 non-null  float32\n",
            " 27  History of anomalies in previous pregnancies      38421 non-null  float32\n",
            " 28  Birth defects                                     38421 non-null  float32\n",
            " 29  Blood test result                                 38421 non-null  float32\n",
            " 30  Genetic Disorder                                  38421 non-null  float32\n",
            " 31  Disorder Subclass                                 38421 non-null  float32\n",
            "dtypes: float32(32)\n",
            "memory usage: 5.0 MB\n"
          ]
        }
      ]
    },
    {
      "cell_type": "code",
      "source": [
        "y = X.pop('Genetic Disorder')\n",
        "y_alt = X.pop('Disorder Subclass')"
      ],
      "metadata": {
        "id": "x54puRpIwv7s"
      },
      "execution_count": null,
      "outputs": []
    },
    {
      "cell_type": "code",
      "source": [
        "from sklearn.preprocessing import MinMaxScaler\n",
        "\n",
        "cols = X.columns\n",
        "scaler = MinMaxScaler()\n",
        "X_scaled = scaler.fit_transform(X)\n",
        "X = pd.DataFrame(X_scaled, columns=cols)"
      ],
      "metadata": {
        "id": "al1gqlasOLFY"
      },
      "execution_count": null,
      "outputs": []
    },
    {
      "cell_type": "code",
      "source": [
        "from sklearn.model_selection import train_test_split\n",
        "\n",
        "X_train, X_test, y_train, y_test = train_test_split(X, y, test_size = 0.2, random_state = 42)"
      ],
      "metadata": {
        "id": "-wJP2EVKxAPL"
      },
      "execution_count": null,
      "outputs": []
    },
    {
      "cell_type": "code",
      "source": [
        "from sklearn.linear_model import LogisticRegression\n",
        "from sklearn.model_selection import cross_val_score\n",
        "\n",
        "scores = cross_val_score(LogisticRegression(), X, y, cv=5)\n",
        "print(\"Score : \",scores.mean())"
      ],
      "metadata": {
        "id": "VuldIyTPcEb7",
        "colab": {
          "base_uri": "https://localhost:8080/"
        },
        "outputId": "24d79cf1-c731-4ace-b8d8-e73c462e9c61"
      },
      "execution_count": null,
      "outputs": [
        {
          "output_type": "stream",
          "name": "stdout",
          "text": [
            "Score :  0.5576899332345947\n"
          ]
        }
      ]
    },
    {
      "cell_type": "code",
      "source": [
        "from sklearn.neighbors import KNeighborsClassifier\n",
        "\n",
        "scores = cross_val_score(KNeighborsClassifier(), X, y, cv=5)\n",
        "print(\"Score : \",scores.mean())"
      ],
      "metadata": {
        "id": "vwxkala1cEM7",
        "colab": {
          "base_uri": "https://localhost:8080/"
        },
        "outputId": "2112c407-4db9-463b-f39e-d5a78629ee72"
      },
      "execution_count": null,
      "outputs": [
        {
          "output_type": "stream",
          "name": "stdout",
          "text": [
            "Score :  0.7131516028201804\n"
          ]
        }
      ]
    },
    {
      "cell_type": "code",
      "source": [
        "from sklearn.tree import DecisionTreeClassifier\n",
        "\n",
        "scores = cross_val_score(DecisionTreeClassifier(), X, y, cv=5)\n",
        "print(\"Score : \",scores.mean())"
      ],
      "metadata": {
        "id": "zCX_z2b4c6NN",
        "colab": {
          "base_uri": "https://localhost:8080/"
        },
        "outputId": "241e0ac1-86e5-4ac2-b812-ee533e24cec2"
      },
      "execution_count": null,
      "outputs": [
        {
          "output_type": "stream",
          "name": "stdout",
          "text": [
            "Score :  0.8902682063837792\n"
          ]
        }
      ]
    },
    {
      "cell_type": "code",
      "source": [
        "from sklearn.ensemble import RandomForestClassifier\n",
        "\n",
        "scores = cross_val_score(RandomForestClassifier(), X, y, cv=5)\n",
        "print(\"Score : \",scores.mean())"
      ],
      "metadata": {
        "id": "RrWSLM2IeI4_",
        "colab": {
          "base_uri": "https://localhost:8080/"
        },
        "outputId": "ca33f4f7-ba44-431d-f6ea-3329fbc448e7"
      },
      "execution_count": null,
      "outputs": [
        {
          "output_type": "stream",
          "name": "stdout",
          "text": [
            "Score :  0.9076807107824791\n"
          ]
        }
      ]
    },
    {
      "cell_type": "code",
      "source": [
        "from sklearn.ensemble import ExtraTreesClassifier\n",
        "\n",
        "scores = cross_val_score(ExtraTreesClassifier(), X, y, cv=5)\n",
        "print(\"Score : \",scores.mean())"
      ],
      "metadata": {
        "id": "smBUW3DEdgnU",
        "colab": {
          "base_uri": "https://localhost:8080/"
        },
        "outputId": "f164b53b-9eb2-46b3-896d-e9adc5f6a725"
      },
      "execution_count": null,
      "outputs": [
        {
          "output_type": "stream",
          "name": "stdout",
          "text": [
            "Score :  0.9139011412742157\n"
          ]
        }
      ]
    },
    {
      "cell_type": "code",
      "source": [
        "from sklearn.ensemble import AdaBoostClassifier\n",
        "\n",
        "scores = cross_val_score(AdaBoostClassifier(), X, y, cv=5)\n",
        "print(\"Score : \",scores.mean())"
      ],
      "metadata": {
        "id": "OhphLVKCd6nO",
        "colab": {
          "base_uri": "https://localhost:8080/"
        },
        "outputId": "4ed67418-cfdf-4c9d-e360-98868b960b89"
      },
      "execution_count": null,
      "outputs": [
        {
          "output_type": "stream",
          "name": "stdout",
          "text": [
            "Score :  0.5355925552491941\n"
          ]
        }
      ]
    },
    {
      "cell_type": "code",
      "source": [
        "# from sklearn.ensemble import GradientBoostingClassifier\n",
        "\n",
        "# scores = cross_val_score(GradientBoostingClassifier(), X, y, cv=5)\n",
        "# print(\"Score : \",scores.mean())"
      ],
      "metadata": {
        "id": "8CqmhjIkeQU2",
        "colab": {
          "base_uri": "https://localhost:8080/"
        },
        "outputId": "56f65612-ae5d-4246-8ea5-97f08b1bae47"
      },
      "execution_count": null,
      "outputs": [
        {
          "output_type": "stream",
          "name": "stdout",
          "text": [
            "Score :  0.6093021723057518\n"
          ]
        }
      ]
    },
    {
      "cell_type": "code",
      "source": [
        "# from sklearn.neural_network import MLPClassifier\n",
        "\n",
        "# scores = cross_val_score(MLPClassifier(), X, y, cv=5)\n",
        "# print(\"Score : \",scores.mean())"
      ],
      "metadata": {
        "id": "fgZbbef4ekSZ",
        "colab": {
          "base_uri": "https://localhost:8080/"
        },
        "outputId": "9c26a4e2-9f3d-4fa7-cee2-47a52b4ca338"
      },
      "execution_count": null,
      "outputs": [
        {
          "output_type": "stream",
          "name": "stderr",
          "text": [
            "/usr/local/lib/python3.10/dist-packages/sklearn/neural_network/_multilayer_perceptron.py:686: ConvergenceWarning: Stochastic Optimizer: Maximum iterations (200) reached and the optimization hasn't converged yet.\n",
            "  warnings.warn(\n",
            "/usr/local/lib/python3.10/dist-packages/sklearn/neural_network/_multilayer_perceptron.py:686: ConvergenceWarning: Stochastic Optimizer: Maximum iterations (200) reached and the optimization hasn't converged yet.\n",
            "  warnings.warn(\n",
            "/usr/local/lib/python3.10/dist-packages/sklearn/neural_network/_multilayer_perceptron.py:686: ConvergenceWarning: Stochastic Optimizer: Maximum iterations (200) reached and the optimization hasn't converged yet.\n",
            "  warnings.warn(\n",
            "/usr/local/lib/python3.10/dist-packages/sklearn/neural_network/_multilayer_perceptron.py:686: ConvergenceWarning: Stochastic Optimizer: Maximum iterations (200) reached and the optimization hasn't converged yet.\n",
            "  warnings.warn(\n"
          ]
        },
        {
          "output_type": "stream",
          "name": "stdout",
          "text": [
            "Score :  0.6909502139994994\n"
          ]
        },
        {
          "output_type": "stream",
          "name": "stderr",
          "text": [
            "/usr/local/lib/python3.10/dist-packages/sklearn/neural_network/_multilayer_perceptron.py:686: ConvergenceWarning: Stochastic Optimizer: Maximum iterations (200) reached and the optimization hasn't converged yet.\n",
            "  warnings.warn(\n"
          ]
        }
      ]
    },
    {
      "cell_type": "code",
      "source": [
        "# import xgboost as xgb\n",
        "\n",
        "# scores = cross_val_score(xgb.XGBClassifier(), X, y, cv=5)\n",
        "# print(\"Score : \",scores.mean())"
      ],
      "metadata": {
        "id": "-cisMNOZevot",
        "colab": {
          "base_uri": "https://localhost:8080/"
        },
        "outputId": "fa218cbd-49d4-41e3-9ab8-5e6e6f09c1c6"
      },
      "execution_count": null,
      "outputs": [
        {
          "output_type": "stream",
          "name": "stdout",
          "text": [
            "Score :  0.8356367302190595\n"
          ]
        }
      ]
    },
    {
      "cell_type": "code",
      "source": [
        "from sklearn.metrics import accuracy_score\n",
        "\n",
        "clf = ExtraTreesClassifier()\n",
        "clf.fit(X_train, y_train)\n",
        "y_predict = clf.predict(X_test)\n",
        "print(\"Score : \",accuracy_score(y_test, y_predict))"
      ],
      "metadata": {
        "id": "L98CYlEyrkcr",
        "colab": {
          "base_uri": "https://localhost:8080/"
        },
        "outputId": "6d020548-ade4-4ad9-c4eb-5d45d0d23baa"
      },
      "execution_count": null,
      "outputs": [
        {
          "output_type": "stream",
          "name": "stdout",
          "text": [
            "Score :  0.9109954456733897\n"
          ]
        }
      ]
    },
    {
      "cell_type": "code",
      "source": [
        "X.info()"
      ],
      "metadata": {
        "id": "zGfAR6PsPknw",
        "colab": {
          "base_uri": "https://localhost:8080/"
        },
        "outputId": "1a1e293e-195c-4af9-db02-8a2bebdb7206"
      },
      "execution_count": null,
      "outputs": [
        {
          "output_type": "stream",
          "name": "stdout",
          "text": [
            "<class 'pandas.core.frame.DataFrame'>\n",
            "RangeIndex: 38421 entries, 0 to 38420\n",
            "Data columns (total 30 columns):\n",
            " #   Column                                            Non-Null Count  Dtype  \n",
            "---  ------                                            --------------  -----  \n",
            " 0   Patient Age                                       38421 non-null  float32\n",
            " 1   Blood cell count (mcL)                            38421 non-null  float32\n",
            " 2   Mother's age                                      38421 non-null  float32\n",
            " 3   Father's age                                      38421 non-null  float32\n",
            " 4   No. of previous abortion                          38421 non-null  float32\n",
            " 5   White Blood cell count (thousand per microliter)  38421 non-null  float32\n",
            " 6   Symptom 1                                         38421 non-null  float32\n",
            " 7   Symptom 2                                         38421 non-null  float32\n",
            " 8   Symptom 3                                         38421 non-null  float32\n",
            " 9   Symptom 4                                         38421 non-null  float32\n",
            " 10  Symptom 5                                         38421 non-null  float32\n",
            " 11  Genes in mother's side                            38421 non-null  float32\n",
            " 12  Inherited from father                             38421 non-null  float32\n",
            " 13  Maternal gene                                     38421 non-null  float32\n",
            " 14  Paternal gene                                     38421 non-null  float32\n",
            " 15  Status                                            38421 non-null  float32\n",
            " 16  Respiratory Rate (breaths/min)                    38421 non-null  float32\n",
            " 17  Heart Rate (rates/min                             38421 non-null  float32\n",
            " 18  Follow-up                                         38421 non-null  float32\n",
            " 19  Gender                                            38421 non-null  float32\n",
            " 20  Birth asphyxia                                    38421 non-null  float32\n",
            " 21  Autopsy shows birth defect (if applicable)        38421 non-null  float32\n",
            " 22  Folic acid details (peri-conceptional)            38421 non-null  float32\n",
            " 23  H/O serious maternal illness                      38421 non-null  float32\n",
            " 24  H/O radiation exposure (x-ray)                    38421 non-null  float32\n",
            " 25  H/O substance abuse                               38421 non-null  float32\n",
            " 26  Assisted conception IVF/ART                       38421 non-null  float32\n",
            " 27  History of anomalies in previous pregnancies      38421 non-null  float32\n",
            " 28  Birth defects                                     38421 non-null  float32\n",
            " 29  Blood test result                                 38421 non-null  float32\n",
            "dtypes: float32(30)\n",
            "memory usage: 4.4 MB\n"
          ]
        }
      ]
    },
    {
      "cell_type": "code",
      "source": [
        "y_predict = clf.predict(X)\n",
        "X = pd.concat([pd.DataFrame(X, columns=X.columns),\n",
        "               pd.DataFrame(y_predict, columns=[\"Genetic Disorder\"])],axis=1)"
      ],
      "metadata": {
        "id": "DOrRvqOXjY_u"
      },
      "execution_count": null,
      "outputs": []
    },
    {
      "cell_type": "code",
      "source": [
        "y_alt = pd.DataFrame(y_alt)"
      ],
      "metadata": {
        "id": "LXo7fIjPLcOe"
      },
      "execution_count": null,
      "outputs": []
    },
    {
      "cell_type": "code",
      "source": [
        "y_alt.reset_index(drop=True, inplace=True)\n",
        "print(y_alt.index.is_unique)\n",
        "print(y_alt.info)"
      ],
      "metadata": {
        "id": "ICEit7LLLiXL",
        "colab": {
          "base_uri": "https://localhost:8080/"
        },
        "outputId": "19abd3b6-b31b-4dd6-8e48-f41bfb0192ea"
      },
      "execution_count": null,
      "outputs": [
        {
          "output_type": "stream",
          "name": "stdout",
          "text": [
            "True\n",
            "<bound method DataFrame.info of        Disorder Subclass\n",
            "0                    7.0\n",
            "1                    7.0\n",
            "2                    6.0\n",
            "3                    6.0\n",
            "4                    6.0\n",
            "...                  ...\n",
            "38416                8.0\n",
            "38417                4.0\n",
            "38418                2.0\n",
            "38419                8.0\n",
            "38420                8.0\n",
            "\n",
            "[38421 rows x 1 columns]>\n"
          ]
        }
      ]
    },
    {
      "cell_type": "code",
      "source": [
        "X = pd.concat([pd.DataFrame(X, columns=X.columns),\n",
        "               pd.DataFrame(y_alt, columns=[\"Disorder Subclass\"])],axis=1)"
      ],
      "metadata": {
        "id": "XWTX2a2eI6Rm"
      },
      "execution_count": null,
      "outputs": []
    },
    {
      "cell_type": "code",
      "source": [
        "X.info()"
      ],
      "metadata": {
        "id": "07gdxeetM_D8",
        "colab": {
          "base_uri": "https://localhost:8080/"
        },
        "outputId": "5968a09b-3b0b-4c93-97c7-c892e81d1820"
      },
      "execution_count": null,
      "outputs": [
        {
          "output_type": "stream",
          "name": "stdout",
          "text": [
            "<class 'pandas.core.frame.DataFrame'>\n",
            "RangeIndex: 38421 entries, 0 to 38420\n",
            "Data columns (total 32 columns):\n",
            " #   Column                                            Non-Null Count  Dtype  \n",
            "---  ------                                            --------------  -----  \n",
            " 0   Patient Age                                       38421 non-null  float32\n",
            " 1   Blood cell count (mcL)                            38421 non-null  float32\n",
            " 2   Mother's age                                      38421 non-null  float32\n",
            " 3   Father's age                                      38421 non-null  float32\n",
            " 4   No. of previous abortion                          38421 non-null  float32\n",
            " 5   White Blood cell count (thousand per microliter)  38421 non-null  float32\n",
            " 6   Symptom 1                                         38421 non-null  float32\n",
            " 7   Symptom 2                                         38421 non-null  float32\n",
            " 8   Symptom 3                                         38421 non-null  float32\n",
            " 9   Symptom 4                                         38421 non-null  float32\n",
            " 10  Symptom 5                                         38421 non-null  float32\n",
            " 11  Genes in mother's side                            38421 non-null  float32\n",
            " 12  Inherited from father                             38421 non-null  float32\n",
            " 13  Maternal gene                                     38421 non-null  float32\n",
            " 14  Paternal gene                                     38421 non-null  float32\n",
            " 15  Status                                            38421 non-null  float32\n",
            " 16  Respiratory Rate (breaths/min)                    38421 non-null  float32\n",
            " 17  Heart Rate (rates/min                             38421 non-null  float32\n",
            " 18  Follow-up                                         38421 non-null  float32\n",
            " 19  Gender                                            38421 non-null  float32\n",
            " 20  Birth asphyxia                                    38421 non-null  float32\n",
            " 21  Autopsy shows birth defect (if applicable)        38421 non-null  float32\n",
            " 22  Folic acid details (peri-conceptional)            38421 non-null  float32\n",
            " 23  H/O serious maternal illness                      38421 non-null  float32\n",
            " 24  H/O radiation exposure (x-ray)                    38421 non-null  float32\n",
            " 25  H/O substance abuse                               38421 non-null  float32\n",
            " 26  Assisted conception IVF/ART                       38421 non-null  float32\n",
            " 27  History of anomalies in previous pregnancies      38421 non-null  float32\n",
            " 28  Birth defects                                     38421 non-null  float32\n",
            " 29  Blood test result                                 38421 non-null  float32\n",
            " 30  Genetic Disorder                                  38421 non-null  float32\n",
            " 31  Disorder Subclass                                 38421 non-null  float32\n",
            "dtypes: float32(32)\n",
            "memory usage: 4.7 MB\n"
          ]
        }
      ]
    },
    {
      "cell_type": "code",
      "source": [
        "X[\"Disorder Subclass\"].value_counts()"
      ],
      "metadata": {
        "id": "xcCsv0NrDKnB",
        "colab": {
          "base_uri": "https://localhost:8080/"
        },
        "outputId": "2d2984b4-7afe-4fa5-d4e9-57501d528124"
      },
      "execution_count": null,
      "outputs": [
        {
          "output_type": "execute_result",
          "data": {
            "text/plain": [
              "3.0    10353\n",
              "6.0     9509\n",
              "2.0     5447\n",
              "8.0     4602\n",
              "7.0     4225\n",
              "4.0     2240\n",
              "0.0      866\n",
              "5.0      612\n",
              "1.0      567\n",
              "Name: Disorder Subclass, dtype: int64"
            ]
          },
          "metadata": {},
          "execution_count": 44
        }
      ]
    },
    {
      "cell_type": "code",
      "source": [
        "from sklearn.utils import resample\n",
        "\n",
        "max_count = X['Disorder Subclass'].value_counts().max()\n",
        "\n",
        "X = pd.concat([\n",
        "    resample(X[X['Disorder Subclass'] == label], replace=True, n_samples=max_count, random_state=42).reset_index(drop=True)\n",
        "    for label in X['Disorder Subclass'].unique()\n",
        "])"
      ],
      "metadata": {
        "id": "6FIJ7qaXDPNH"
      },
      "execution_count": null,
      "outputs": []
    },
    {
      "cell_type": "code",
      "source": [
        "X[\"Disorder Subclass\"].value_counts()"
      ],
      "metadata": {
        "id": "M-4bmtTw_zZ9",
        "colab": {
          "base_uri": "https://localhost:8080/"
        },
        "outputId": "6ae83861-244e-4270-caa6-1cdf6381fc23"
      },
      "execution_count": null,
      "outputs": [
        {
          "output_type": "execute_result",
          "data": {
            "text/plain": [
              "7.0    10353\n",
              "6.0    10353\n",
              "1.0    10353\n",
              "5.0    10353\n",
              "2.0    10353\n",
              "4.0    10353\n",
              "8.0    10353\n",
              "0.0    10353\n",
              "3.0    10353\n",
              "Name: Disorder Subclass, dtype: int64"
            ]
          },
          "metadata": {},
          "execution_count": 46
        }
      ]
    },
    {
      "cell_type": "code",
      "source": [
        "y_alt = X.pop('Disorder Subclass')"
      ],
      "metadata": {
        "id": "4NJYJBGODcDf"
      },
      "execution_count": null,
      "outputs": []
    },
    {
      "cell_type": "code",
      "source": [
        "X_train, X_test, y_train, y_test = train_test_split(X, y_alt, test_size = 0.2, random_state = 42)"
      ],
      "metadata": {
        "id": "BQFPYgOLsVmp"
      },
      "execution_count": null,
      "outputs": []
    },
    {
      "cell_type": "code",
      "source": [
        "scores = cross_val_score(LogisticRegression(), X, y_alt, cv=5)\n",
        "print(\"Score : \",scores.mean())"
      ],
      "metadata": {
        "id": "nCoqAaZkgGhP",
        "colab": {
          "base_uri": "https://localhost:8080/"
        },
        "outputId": "180e68ae-ffe7-4b21-8e15-b350ca748a73"
      },
      "execution_count": null,
      "outputs": [
        {
          "output_type": "stream",
          "name": "stderr",
          "text": [
            "/usr/local/lib/python3.10/dist-packages/sklearn/linear_model/_logistic.py:458: ConvergenceWarning: lbfgs failed to converge (status=1):\n",
            "STOP: TOTAL NO. of ITERATIONS REACHED LIMIT.\n",
            "\n",
            "Increase the number of iterations (max_iter) or scale the data as shown in:\n",
            "    https://scikit-learn.org/stable/modules/preprocessing.html\n",
            "Please also refer to the documentation for alternative solver options:\n",
            "    https://scikit-learn.org/stable/modules/linear_model.html#logistic-regression\n",
            "  n_iter_i = _check_optimize_result(\n",
            "/usr/local/lib/python3.10/dist-packages/sklearn/linear_model/_logistic.py:458: ConvergenceWarning: lbfgs failed to converge (status=1):\n",
            "STOP: TOTAL NO. of ITERATIONS REACHED LIMIT.\n",
            "\n",
            "Increase the number of iterations (max_iter) or scale the data as shown in:\n",
            "    https://scikit-learn.org/stable/modules/preprocessing.html\n",
            "Please also refer to the documentation for alternative solver options:\n",
            "    https://scikit-learn.org/stable/modules/linear_model.html#logistic-regression\n",
            "  n_iter_i = _check_optimize_result(\n",
            "/usr/local/lib/python3.10/dist-packages/sklearn/linear_model/_logistic.py:458: ConvergenceWarning: lbfgs failed to converge (status=1):\n",
            "STOP: TOTAL NO. of ITERATIONS REACHED LIMIT.\n",
            "\n",
            "Increase the number of iterations (max_iter) or scale the data as shown in:\n",
            "    https://scikit-learn.org/stable/modules/preprocessing.html\n",
            "Please also refer to the documentation for alternative solver options:\n",
            "    https://scikit-learn.org/stable/modules/linear_model.html#logistic-regression\n",
            "  n_iter_i = _check_optimize_result(\n",
            "/usr/local/lib/python3.10/dist-packages/sklearn/linear_model/_logistic.py:458: ConvergenceWarning: lbfgs failed to converge (status=1):\n",
            "STOP: TOTAL NO. of ITERATIONS REACHED LIMIT.\n",
            "\n",
            "Increase the number of iterations (max_iter) or scale the data as shown in:\n",
            "    https://scikit-learn.org/stable/modules/preprocessing.html\n",
            "Please also refer to the documentation for alternative solver options:\n",
            "    https://scikit-learn.org/stable/modules/linear_model.html#logistic-regression\n",
            "  n_iter_i = _check_optimize_result(\n"
          ]
        },
        {
          "output_type": "stream",
          "name": "stdout",
          "text": [
            "Score :  0.7006128077061093\n"
          ]
        },
        {
          "output_type": "stream",
          "name": "stderr",
          "text": [
            "/usr/local/lib/python3.10/dist-packages/sklearn/linear_model/_logistic.py:458: ConvergenceWarning: lbfgs failed to converge (status=1):\n",
            "STOP: TOTAL NO. of ITERATIONS REACHED LIMIT.\n",
            "\n",
            "Increase the number of iterations (max_iter) or scale the data as shown in:\n",
            "    https://scikit-learn.org/stable/modules/preprocessing.html\n",
            "Please also refer to the documentation for alternative solver options:\n",
            "    https://scikit-learn.org/stable/modules/linear_model.html#logistic-regression\n",
            "  n_iter_i = _check_optimize_result(\n"
          ]
        }
      ]
    },
    {
      "cell_type": "code",
      "source": [
        "scores = cross_val_score(KNeighborsClassifier(), X, y_alt, cv=5)\n",
        "print(\"Score : \",scores.mean())"
      ],
      "metadata": {
        "id": "U5cEUyDpgYQc",
        "colab": {
          "base_uri": "https://localhost:8080/"
        },
        "outputId": "f56971a0-d7c7-40c1-8bac-c02bd4d88ad6"
      },
      "execution_count": null,
      "outputs": [
        {
          "output_type": "stream",
          "name": "stdout",
          "text": [
            "Score :  0.909355297164096\n"
          ]
        }
      ]
    },
    {
      "cell_type": "code",
      "source": [
        "scores = cross_val_score(DecisionTreeClassifier(), X, y_alt, cv=5)\n",
        "print(\"Score : \",scores.mean())"
      ],
      "metadata": {
        "id": "NMG_XMkogh8T",
        "colab": {
          "base_uri": "https://localhost:8080/"
        },
        "outputId": "e160779a-f86b-45b7-c82d-28cea9cfe56f"
      },
      "execution_count": null,
      "outputs": [
        {
          "output_type": "stream",
          "name": "stdout",
          "text": [
            "Score :  0.9787179030888626\n"
          ]
        }
      ]
    },
    {
      "cell_type": "code",
      "source": [
        "scores = cross_val_score(RandomForestClassifier(), X, y_alt, cv=5)\n",
        "print(\"Score : \",scores.mean())"
      ],
      "metadata": {
        "id": "zM3uzs2w4Bo5",
        "colab": {
          "base_uri": "https://localhost:8080/"
        },
        "outputId": "41d442e8-4ab1-4208-f077-fe7dc100c364"
      },
      "execution_count": null,
      "outputs": [
        {
          "output_type": "stream",
          "name": "stdout",
          "text": [
            "Score :  0.9834186432887684\n"
          ]
        }
      ]
    },
    {
      "cell_type": "code",
      "source": [
        "scores = cross_val_score(ExtraTreesClassifier(), X, y_alt, cv=5)\n",
        "print(\"Score : \",scores.mean())"
      ],
      "metadata": {
        "id": "RiHrlvOdgpKs",
        "colab": {
          "base_uri": "https://localhost:8080/"
        },
        "outputId": "aee0af5a-acf8-486a-cd10-27a788e32eb7"
      },
      "execution_count": null,
      "outputs": [
        {
          "output_type": "stream",
          "name": "stdout",
          "text": [
            "Score :  0.9842020973971979\n"
          ]
        }
      ]
    },
    {
      "cell_type": "code",
      "source": [
        "scores = cross_val_score(AdaBoostClassifier(), X, y_alt, cv=5)\n",
        "print(\"Score : \",scores.mean())"
      ],
      "metadata": {
        "id": "1I2a-Lj-g0H0",
        "colab": {
          "base_uri": "https://localhost:8080/"
        },
        "outputId": "674af627-5945-4fc9-ebc9-a3c559b48947"
      },
      "execution_count": null,
      "outputs": [
        {
          "output_type": "stream",
          "name": "stdout",
          "text": [
            "Score :  0.5471201835880515\n"
          ]
        }
      ]
    },
    {
      "cell_type": "code",
      "source": [
        "scores = cross_val_score(GradientBoostingClassifier(), X, y_alt, cv=5)\n",
        "print(\"Score : \",scores.mean())"
      ],
      "metadata": {
        "id": "3RSps4R6g7Vc",
        "colab": {
          "base_uri": "https://localhost:8080/"
        },
        "outputId": "f6d7a49c-2fc6-4074-ddc8-083549fa1719"
      },
      "execution_count": null,
      "outputs": [
        {
          "output_type": "stream",
          "name": "stdout",
          "text": [
            "Score :  0.7887246745338211\n"
          ]
        }
      ]
    },
    {
      "cell_type": "code",
      "source": [
        "scores = cross_val_score(MLPClassifier(), X, y_alt, cv=5)\n",
        "print(\"Score : \",scores.mean())"
      ],
      "metadata": {
        "id": "h40pixHohBQq",
        "colab": {
          "base_uri": "https://localhost:8080/"
        },
        "outputId": "dddc67b3-a013-4740-dba7-59fcd0b03d58"
      },
      "execution_count": null,
      "outputs": [
        {
          "output_type": "stream",
          "name": "stderr",
          "text": [
            "/usr/local/lib/python3.10/dist-packages/sklearn/neural_network/_multilayer_perceptron.py:686: ConvergenceWarning: Stochastic Optimizer: Maximum iterations (200) reached and the optimization hasn't converged yet.\n",
            "  warnings.warn(\n",
            "/usr/local/lib/python3.10/dist-packages/sklearn/neural_network/_multilayer_perceptron.py:686: ConvergenceWarning: Stochastic Optimizer: Maximum iterations (200) reached and the optimization hasn't converged yet.\n",
            "  warnings.warn(\n",
            "/usr/local/lib/python3.10/dist-packages/sklearn/neural_network/_multilayer_perceptron.py:686: ConvergenceWarning: Stochastic Optimizer: Maximum iterations (200) reached and the optimization hasn't converged yet.\n",
            "  warnings.warn(\n",
            "/usr/local/lib/python3.10/dist-packages/sklearn/neural_network/_multilayer_perceptron.py:686: ConvergenceWarning: Stochastic Optimizer: Maximum iterations (200) reached and the optimization hasn't converged yet.\n",
            "  warnings.warn(\n"
          ]
        },
        {
          "output_type": "stream",
          "name": "stdout",
          "text": [
            "Score :  0.8624552920788895\n"
          ]
        },
        {
          "output_type": "stream",
          "name": "stderr",
          "text": [
            "/usr/local/lib/python3.10/dist-packages/sklearn/neural_network/_multilayer_perceptron.py:686: ConvergenceWarning: Stochastic Optimizer: Maximum iterations (200) reached and the optimization hasn't converged yet.\n",
            "  warnings.warn(\n"
          ]
        }
      ]
    },
    {
      "cell_type": "code",
      "source": [
        "scores = cross_val_score(xgb.XGBClassifier(), X, y_alt, cv=5)\n",
        "print(\"Score : \",scores.mean())"
      ],
      "metadata": {
        "id": "dQ8vjWyahHFR",
        "colab": {
          "base_uri": "https://localhost:8080/"
        },
        "outputId": "971a3763-cacb-4b0d-81dd-57cc06324f8f"
      },
      "execution_count": null,
      "outputs": [
        {
          "output_type": "stream",
          "name": "stdout",
          "text": [
            "Score :  0.9666548365065772\n"
          ]
        }
      ]
    },
    {
      "cell_type": "code",
      "source": [
        "clf_alt = ExtraTreesClassifier()\n",
        "clf_alt.fit(X_train, y_train)\n",
        "y_predict = clf_alt.predict(X_test)\n",
        "print(\"Score : \",accuracy_score(y_test, y_predict))"
      ],
      "metadata": {
        "colab": {
          "base_uri": "https://localhost:8080/"
        },
        "id": "KQIJbAfMNc94",
        "outputId": "e5096935-8916-43ac-a8b7-87e0ecc49805"
      },
      "execution_count": null,
      "outputs": [
        {
          "output_type": "stream",
          "name": "stdout",
          "text": [
            "Score :  0.983419188667096\n"
          ]
        }
      ]
    },
    {
      "cell_type": "code",
      "source": [
        "!wget -O test.csv https://github.com/tronn-ankush/Genetic-Disorder-ML/raw/master/test_genetic_disorders.csv"
      ],
      "metadata": {
        "id": "EKdc200omOOY",
        "colab": {
          "base_uri": "https://localhost:8080/"
        },
        "outputId": "4398056f-a5e6-4dce-ac38-573075b79b4b"
      },
      "execution_count": null,
      "outputs": [
        {
          "output_type": "stream",
          "name": "stdout",
          "text": [
            "--2024-03-20 14:15:14--  https://github.com/tronn-ankush/Genetic-Disorder-ML/raw/master/test_genetic_disorders.csv\n",
            "Resolving github.com (github.com)... 140.82.114.4\n",
            "Connecting to github.com (github.com)|140.82.114.4|:443... connected.\n",
            "HTTP request sent, awaiting response... 302 Found\n",
            "Location: https://raw.githubusercontent.com/tronn-ankush/Genetic-Disorder-ML/master/test_genetic_disorders.csv [following]\n",
            "--2024-03-20 14:15:14--  https://raw.githubusercontent.com/tronn-ankush/Genetic-Disorder-ML/master/test_genetic_disorders.csv\n",
            "Resolving raw.githubusercontent.com (raw.githubusercontent.com)... 185.199.108.133, 185.199.109.133, 185.199.110.133, ...\n",
            "Connecting to raw.githubusercontent.com (raw.githubusercontent.com)|185.199.108.133|:443... connected.\n",
            "HTTP request sent, awaiting response... 200 OK\n",
            "Length: 2448831 (2.3M) [text/plain]\n",
            "Saving to: ‘test.csv’\n",
            "\n",
            "test.csv            100%[===================>]   2.33M  --.-KB/s    in 0.01s   \n",
            "\n",
            "2024-03-20 14:15:14 (180 MB/s) - ‘test.csv’ saved [2448831/2448831]\n",
            "\n"
          ]
        }
      ]
    },
    {
      "cell_type": "code",
      "source": [
        "test = pd.read_csv('test.csv')\n",
        "test = test.replace('-99', np.nan)\n",
        "test = test.replace(-99, np.nan)"
      ],
      "metadata": {
        "id": "KhwMAmR9EGqF"
      },
      "execution_count": null,
      "outputs": []
    },
    {
      "cell_type": "code",
      "source": [
        "test.drop(\"Patient Id\", axis=1, inplace=True)\n",
        "test.drop(\"Patient First Name\", axis=1, inplace=True)\n",
        "test.drop(\"Family Name\", axis=1, inplace=True)\n",
        "test.drop(\"Father's name\", axis=1, inplace=True)\n",
        "test.drop(\"Institute Name\", axis=1, inplace=True)\n",
        "test.drop(\"Location of Institute\", axis=1, inplace=True)\n",
        "test.drop(\"Place of birth\", axis=1, inplace=True)\n",
        "test.drop(\"Test 1\", axis=1, inplace=True)\n",
        "test.drop(\"Test 2\", axis=1, inplace=True)\n",
        "test.drop(\"Test 3\", axis=1, inplace=True)\n",
        "test.drop(\"Test 4\", axis=1, inplace=True)\n",
        "test.drop(\"Test 5\", axis=1, inplace=True)\n",
        "test.drop(\"Parental consent\", axis=1, inplace=True)"
      ],
      "metadata": {
        "id": "cfnW5WKjEpEg"
      },
      "execution_count": null,
      "outputs": []
    },
    {
      "cell_type": "code",
      "source": [
        "from sklearn.impute import SimpleImputer\n",
        "\n",
        "num = test.select_dtypes(include=['number'])\n",
        "cat = test.select_dtypes(include=['object'])\n",
        "\n",
        "num_imputer = SimpleImputer(strategy='most_frequent')\n",
        "num_imputed = num_imputer.fit_transform(num)\n",
        "num.columns = num.columns\n",
        "\n",
        "cat_imputer = SimpleImputer(strategy='most_frequent')\n",
        "cat_imputed = cat_imputer.fit_transform(cat)\n",
        "cat.columns = cat.columns\n",
        "\n",
        "test = pd.concat([pd.DataFrame(num_imputed, columns=num.columns),\n",
        "                      pd.DataFrame(cat_imputed, columns=cat.columns)],\n",
        "                      axis=1)"
      ],
      "metadata": {
        "id": "Zzs2Q8e-E3BL"
      },
      "execution_count": null,
      "outputs": []
    },
    {
      "cell_type": "code",
      "source": [
        "from sklearn.preprocessing import LabelEncoder\n",
        "\n",
        "encoder = LabelEncoder()\n",
        "for col in test:\n",
        "  if(test[col].dtype == 'object'):\n",
        "    test[col] = encoder.fit_transform(test[col])"
      ],
      "metadata": {
        "id": "wD7YCXImFYxF"
      },
      "execution_count": null,
      "outputs": []
    },
    {
      "cell_type": "code",
      "source": [
        "test.info()"
      ],
      "metadata": {
        "colab": {
          "base_uri": "https://localhost:8080/"
        },
        "id": "nnZYrWabPBVL",
        "outputId": "76d3ced8-9179-4a4b-fc34-236bf157bc83"
      },
      "execution_count": null,
      "outputs": [
        {
          "output_type": "stream",
          "name": "stdout",
          "text": [
            "<class 'pandas.core.frame.DataFrame'>\n",
            "RangeIndex: 9463 entries, 0 to 9462\n",
            "Data columns (total 30 columns):\n",
            " #   Column                                            Non-Null Count  Dtype  \n",
            "---  ------                                            --------------  -----  \n",
            " 0   Patient Age                                       9463 non-null   float64\n",
            " 1   Blood cell count (mcL)                            9463 non-null   float64\n",
            " 2   Mother's age                                      9463 non-null   float64\n",
            " 3   Father's age                                      9463 non-null   float64\n",
            " 4   No. of previous abortion                          9463 non-null   float64\n",
            " 5   White Blood cell count (thousand per microliter)  9463 non-null   float64\n",
            " 6   Genes in mother's side                            9463 non-null   int64  \n",
            " 7   Inherited from father                             9463 non-null   int64  \n",
            " 8   Maternal gene                                     9463 non-null   int64  \n",
            " 9   Paternal gene                                     9463 non-null   int64  \n",
            " 10  Status                                            9463 non-null   int64  \n",
            " 11  Respiratory Rate (breaths/min)                    9463 non-null   int64  \n",
            " 12  Heart Rate (rates/min                             9463 non-null   int64  \n",
            " 13  Follow-up                                         9463 non-null   int64  \n",
            " 14  Gender                                            9463 non-null   int64  \n",
            " 15  Birth asphyxia                                    9463 non-null   int64  \n",
            " 16  Autopsy shows birth defect (if applicable)        9463 non-null   int64  \n",
            " 17  Folic acid details (peri-conceptional)            9463 non-null   int64  \n",
            " 18  H/O serious maternal illness                      9463 non-null   int64  \n",
            " 19  H/O radiation exposure (x-ray)                    9463 non-null   int64  \n",
            " 20  H/O substance abuse                               9463 non-null   int64  \n",
            " 21  Assisted conception IVF/ART                       9463 non-null   int64  \n",
            " 22  History of anomalies in previous pregnancies      9463 non-null   int64  \n",
            " 23  Birth defects                                     9463 non-null   int64  \n",
            " 24  Blood test result                                 9463 non-null   int64  \n",
            " 25  Symptom 1                                         9463 non-null   int64  \n",
            " 26  Symptom 2                                         9463 non-null   int64  \n",
            " 27  Symptom 3                                         9463 non-null   int64  \n",
            " 28  Symptom 4                                         9463 non-null   int64  \n",
            " 29  Symptom 5                                         9463 non-null   int64  \n",
            "dtypes: float64(6), int64(24)\n",
            "memory usage: 2.2 MB\n"
          ]
        }
      ]
    },
    {
      "cell_type": "code",
      "source": [
        "cols = test.columns\n",
        "test_scaled = scaler.fit_transform(test)\n",
        "test = pd.DataFrame(test_scaled, columns=cols)"
      ],
      "metadata": {
        "id": "Gb2Z3knGOsg_"
      },
      "execution_count": null,
      "outputs": []
    },
    {
      "cell_type": "code",
      "source": [
        "test = test[clf.feature_names_in_]"
      ],
      "metadata": {
        "id": "DHWmllQTQVBI"
      },
      "execution_count": null,
      "outputs": []
    },
    {
      "cell_type": "code",
      "source": [
        "test_y_predict = clf.predict(test)\n",
        "print(pd.DataFrame(test_y_predict).value_counts())\n",
        "test = pd.concat([pd.DataFrame(test, columns=test.columns),\n",
        "               pd.DataFrame(test_y_predict, columns=[\"Genetic Disorder\"])],axis=1)"
      ],
      "metadata": {
        "colab": {
          "base_uri": "https://localhost:8080/"
        },
        "id": "iq41ZwrCO5zv",
        "outputId": "60c9b117-acc0-4e4f-90d7-1faee33060c7"
      },
      "execution_count": null,
      "outputs": [
        {
          "output_type": "stream",
          "name": "stdout",
          "text": [
            "0.0    5340\n",
            "2.0    2472\n",
            "1.0    1651\n",
            "dtype: int64\n"
          ]
        }
      ]
    },
    {
      "cell_type": "code",
      "source": [
        "test = test[clf_alt.feature_names_in_]"
      ],
      "metadata": {
        "id": "dfKVtVs_Pbbv"
      },
      "execution_count": null,
      "outputs": []
    },
    {
      "cell_type": "code",
      "source": [
        "test_y_predict = clf_alt.predict(test)\n",
        "pd.DataFrame(test_y_predict).value_counts()"
      ],
      "metadata": {
        "colab": {
          "base_uri": "https://localhost:8080/"
        },
        "id": "K09KNnifQfOH",
        "outputId": "970ad353-b5ff-48cd-c037-e0585982a881"
      },
      "execution_count": null,
      "outputs": [
        {
          "output_type": "execute_result",
          "data": {
            "text/plain": [
              "6.0    3518\n",
              "2.0    1787\n",
              "7.0    1693\n",
              "3.0    1645\n",
              "8.0     574\n",
              "5.0     120\n",
              "4.0     119\n",
              "0.0       7\n",
              "dtype: int64"
            ]
          },
          "metadata": {},
          "execution_count": 69
        }
      ]
    },
    {
      "cell_type": "code",
      "source": [
        "test = pd.concat([pd.DataFrame(test, columns=test.columns),\n",
        "                  pd.DataFrame(test_y_predict, columns=[\"Disorder Subclass\"])],axis=1)"
      ],
      "metadata": {
        "id": "dnlH-8viQqvZ"
      },
      "execution_count": null,
      "outputs": []
    },
    {
      "cell_type": "code",
      "source": [
        "sub = pd.concat([test[\"Genetic Disorder\"], test[\"Disorder Subclass\"]], axis=1)"
      ],
      "metadata": {
        "id": "gizsgQ_9F14y"
      },
      "execution_count": null,
      "outputs": []
    },
    {
      "cell_type": "code",
      "source": [
        "sub['Genetic Disorder'] = sub['Genetic Disorder'].apply(lambda x: {0: 'Mitochondrial', 1: 'Single-gene', 2: 'Multifactorial'}[x])"
      ],
      "metadata": {
        "id": "uPtgehklF7pI"
      },
      "execution_count": null,
      "outputs": []
    },
    {
      "cell_type": "code",
      "source": [
        "sub['Disorder Subclass'] = sub['Disorder Subclass'].apply(lambda x: {0: \"Leber's hereditary optic neuropathy\",\n",
        "                                                                     1: \"Cystic fibrosis\",\n",
        "                                                                     2: 'Diabetes',\n",
        "                                                                     3: 'Leigh syndrome',\n",
        "                                                                     4: 'Cancer',\n",
        "                                                                     5: 'Tay-Sachs',\n",
        "                                                                     6: 'Hemochromatosis',\n",
        "                                                                     7: 'Mitochondrial myopathy',\n",
        "                                                                     8: \"Alzheimer's\"\n",
        "                                                                     }[x])"
      ],
      "metadata": {
        "id": "t62JZrVXF-Nh"
      },
      "execution_count": null,
      "outputs": []
    },
    {
      "cell_type": "code",
      "source": [
        "from matplotlib import pyplot as plt\n",
        "import seaborn as sns\n",
        "sub.groupby('Genetic Disorder').size().plot(kind='barh', color=sns.palettes.mpl_palette('Dark2'))\n",
        "plt.gca().spines[['top', 'right',]].set_visible(False)"
      ],
      "metadata": {
        "colab": {
          "base_uri": "https://localhost:8080/",
          "height": 430
        },
        "id": "1qvNgTlEGBaO",
        "outputId": "f1756854-cee3-47ce-9dc1-5e0275dc3634"
      },
      "execution_count": null,
      "outputs": [
        {
          "output_type": "display_data",
          "data": {
            "text/plain": [
              "<Figure size 640x480 with 1 Axes>"
            ],
            "image/png": "[encoded data removed]"
          },
          "metadata": {}
        }
      ]
    },
    {
      "cell_type": "code",
      "source": [
        "from matplotlib import pyplot as plt\n",
        "import seaborn as sns\n",
        "sub.groupby('Disorder Subclass').size().plot(kind='barh', color=sns.palettes.mpl_palette('Dark2'))\n",
        "plt.gca().spines[['top', 'right',]].set_visible(False)"
      ],
      "metadata": {
        "colab": {
          "base_uri": "https://localhost:8080/",
          "height": 430
        },
        "id": "DiTurDPCGD6Y",
        "outputId": "396e2228-4a0e-4d5a-ef30-584e6689266a"
      },
      "execution_count": null,
      "outputs": [
        {
          "output_type": "display_data",
          "data": {
            "text/plain": [
              "<Figure size 640x480 with 1 Axes>"
            ],
            "image/png": "[encoded data removed]"
          },
          "metadata": {}
        }
      ]
    }
  ]
}